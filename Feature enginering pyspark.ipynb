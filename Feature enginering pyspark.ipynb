{
 "cells": [
  {
   "cell_type": "markdown",
   "source": [
    "# PySpark ML Pipeline\n",
    "\n",
    "What we need to do is to apply the features engineering step (of an ML pipeline) using Spark.\n",
    "\n",
    "I apply the following guides:\n",
    "\n",
    "0. Start with some basic exploratory analysis.\n",
    "\n",
    "1. Split the data between train and test\n",
    "\n",
    "2. Drop the rows with more than 50% of NA values\n",
    "\n",
    "3. Fill the remaining NA values with the median of the column or the mode if it's a category.\n",
    "\n",
    "4. Apply a normalization technique to the data (min-max or standard deviation)\n",
    "\n",
    "5. Generate 2 new columns based on the relations with the existing columns."
   ],
   "metadata": {
    "collapsed": false
   }
  },
  {
   "cell_type": "markdown",
   "source": [
    "# Exploratory analysis"
   ],
   "metadata": {
    "collapsed": false
   }
  },
  {
   "cell_type": "code",
   "execution_count": 4,
   "metadata": {
    "collapsed": true,
    "ExecuteTime": {
     "end_time": "2023-05-03T20:55:09.100952Z",
     "start_time": "2023-05-03T20:55:07.486189Z"
    }
   },
   "outputs": [],
   "source": [
    "# Importing libraries\n",
    "import pandas as pd\n",
    "import numpy as np\n",
    "import matplotlib.pyplot as plt\n",
    "import pyspark\n",
    "import pyspark_dist_explore as pde\n",
    "from pyspark.sql import SparkSession\n",
    "from pyspark.sql.functions import col, when\n",
    "from pyspark.sql.window import Window\n",
    "from pyspark.sql.functions import rank, dense_rank, row_number"
   ]
  },
  {
   "cell_type": "code",
   "execution_count": 5,
   "outputs": [
    {
     "name": "stderr",
     "output_type": "stream",
     "text": [
      "Setting default log level to \"WARN\".\n",
      "To adjust logging level use sc.setLogLevel(newLevel). For SparkR, use setLogLevel(newLevel).\n",
      "23/05/03 22:55:12 WARN NativeCodeLoader: Unable to load native-hadoop library for your platform... using builtin-java classes where applicable\n",
      "23/05/03 22:55:13 WARN Utils: Service 'SparkUI' could not bind on port 4040. Attempting port 4041.\n"
     ]
    }
   ],
   "source": [
    "spark = pyspark.sql.SparkSession.builder.getOrCreate()"
   ],
   "metadata": {
    "collapsed": false,
    "ExecuteTime": {
     "end_time": "2023-05-03T20:55:14.219614Z",
     "start_time": "2023-05-03T20:55:09.101955Z"
    }
   }
  },
  {
   "cell_type": "markdown",
   "source": [
    "# In this assignment i will use the data frame of my spotify playlist 'liked songs'. I created this dataframe in a medium article, here is the link. Take a look if you like!\n",
    "https://medium.com/@rubentak/spotify-in-python-part-1-preprocessing-67e690450522"
   ],
   "metadata": {
    "collapsed": false
   }
  },
  {
   "cell_type": "code",
   "execution_count": 8,
   "outputs": [],
   "source": [
    "df = pd.read_csv(\"tracklist.csv\")"
   ],
   "metadata": {
    "collapsed": false,
    "ExecuteTime": {
     "end_time": "2023-05-03T20:55:47.192565Z",
     "start_time": "2023-05-03T20:55:46.294145Z"
    }
   }
  },
  {
   "cell_type": "code",
   "execution_count": 9,
   "outputs": [
    {
     "name": "stdout",
     "output_type": "stream",
     "text": [
      "Number of rows: 1380\n",
      "Number of columns: 24\n"
     ]
    }
   ],
   "source": [
    "# Read the dataset into a DataFrame\n",
    "df = spark.read.csv(\"tracklist.csv\", header=True, inferSchema=True)"
   ],
   "metadata": {
    "collapsed": false,
    "ExecuteTime": {
     "end_time": "2023-05-03T20:55:48.132303Z",
     "start_time": "2023-05-03T20:55:47.193882Z"
    }
   }
  },
  {
   "cell_type": "code",
   "execution_count": 10,
   "outputs": [
    {
     "name": "stdout",
     "output_type": "stream",
     "text": [
      "root\n",
      " |-- added_at: timestamp (nullable = true)\n",
      " |-- id: string (nullable = true)\n",
      " |-- name: string (nullable = true)\n",
      " |-- popularity: integer (nullable = true)\n",
      " |-- uri: string (nullable = true)\n",
      " |-- artist: string (nullable = true)\n",
      " |-- album: string (nullable = true)\n",
      " |-- release_date: string (nullable = true)\n",
      " |-- duration_ms: string (nullable = true)\n",
      " |-- length: double (nullable = true)\n",
      " |-- danceability: double (nullable = true)\n",
      " |-- acousticness: double (nullable = true)\n",
      " |-- energy: double (nullable = true)\n",
      " |-- instrumentalness: double (nullable = true)\n",
      " |-- liveness: double (nullable = true)\n",
      " |-- loudness: double (nullable = true)\n",
      " |-- speechiness: double (nullable = true)\n",
      " |-- tempo: double (nullable = true)\n",
      " |-- time_signature: double (nullable = true)\n",
      " |-- valence: double (nullable = true)\n",
      " |-- mode: double (nullable = true)\n",
      " |-- key: double (nullable = true)\n",
      " |-- genres: string (nullable = true)\n",
      " |-- genre_group: string (nullable = true)\n",
      "\n"
     ]
    }
   ],
   "source": [
    "# Check the number of rows and columns\n",
    "print(f\"Number of rows: {df.count()}\")\n",
    "print(f\"Number of columns: {len(df.columns)}\")"
   ],
   "metadata": {
    "collapsed": false,
    "ExecuteTime": {
     "end_time": "2023-05-03T20:55:48.823168Z",
     "start_time": "2023-05-03T20:55:48.815834Z"
    }
   }
  },
  {
   "cell_type": "code",
   "execution_count": 11,
   "outputs": [
    {
     "name": "stdout",
     "output_type": "stream",
     "text": [
      "Number of missing values per column:\n",
      "+--------+---+----+----------+---+------+-----+------------+-----------+------+------------+------------+------+----------------+--------+--------+-----------+-----+--------------+-------+----+---+------+-----------+\n",
      "|added_at| id|name|popularity|uri|artist|album|release_date|duration_ms|length|danceability|acousticness|energy|instrumentalness|liveness|loudness|speechiness|tempo|time_signature|valence|mode|key|genres|genre_group|\n",
      "+--------+---+----+----------+---+------+-----+------------+-----------+------+------------+------------+------+----------------+--------+--------+-----------+-----+--------------+-------+----+---+------+-----------+\n",
      "|       0|  0|   0|         0|  0|     0|    0|           0|          0|     2|           2|           2|     2|               2|       2|       2|          2|    2|             2|      2|   2|  2|   233|        288|\n",
      "+--------+---+----+----------+---+------+-----+------------+-----------+------+------------+------------+------+----------------+--------+--------+-----------+-----+--------------+-------+----+---+------+-----------+\n",
      "\n"
     ]
    }
   ],
   "source": [
    "# Check the schema\n",
    "df.printSchema()"
   ],
   "metadata": {
    "collapsed": false,
    "ExecuteTime": {
     "end_time": "2023-05-03T20:55:51.504175Z",
     "start_time": "2023-05-03T20:55:49.533501Z"
    }
   }
  },
  {
   "cell_type": "code",
   "execution_count": 12,
   "outputs": [
    {
     "name": "stdout",
     "output_type": "stream",
     "text": [
      "Number of duplicate rows: 0\n"
     ]
    }
   ],
   "source": [
    "# Check for missing values\n",
    "from pyspark.sql.functions import count, when, isnan, col\n",
    "print(\"Number of missing values per column:\")\n",
    "df.select([count(when(col(c).isNull(), c)).alias(c) for c in df.columns]).show()\n"
   ],
   "metadata": {
    "collapsed": false,
    "ExecuteTime": {
     "end_time": "2023-05-03T20:55:53.285318Z",
     "start_time": "2023-05-03T20:55:51.505127Z"
    }
   }
  },
  {
   "cell_type": "code",
   "execution_count": 13,
   "outputs": [
    {
     "name": "stderr",
     "output_type": "stream",
     "text": [
      "23/05/03 22:55:54 WARN package: Truncated the string representation of a plan since it was too large. This behavior can be adjusted by setting 'spark.sql.debug.maxToStringFields'.\n",
      "[Stage 21:>                                                         (0 + 1) / 1]\r"
     ]
    },
    {
     "name": "stdout",
     "output_type": "stream",
     "text": [
      "+-------+--------------------+--------------------+-----------------+--------------------+--------------------+--------------------+------------------+-----------------+------------------+------------------+-------------------+-------------------+-------------------+-------------------+------------------+-------------------+------------------+------------------+------------------+-------------------+-----------------+---------------+-----------+\n",
      "|summary|                  id|                name|       popularity|                 uri|              artist|               album|      release_date|      duration_ms|            length|      danceability|       acousticness|             energy|   instrumentalness|           liveness|          loudness|        speechiness|             tempo|    time_signature|           valence|               mode|              key|         genres|genre_group|\n",
      "+-------+--------------------+--------------------+-----------------+--------------------+--------------------+--------------------+------------------+-----------------+------------------+------------------+-------------------+-------------------+-------------------+-------------------+------------------+-------------------+------------------+------------------+------------------+-------------------+-----------------+---------------+-----------+\n",
      "|  count|                1380|                1380|             1380|                1380|                1380|                1380|              1380|             1380|              1378|              1378|               1378|               1378|               1378|               1378|              1378|               1378|              1378|              1378|              1378|               1378|             1378|           1147|       1092|\n",
      "|   mean|                null|            48551.75|36.46376811594203|                null|               150.0|  1339.8333333333333|1989.0232558139535|298284.0377084844| 292781.3642960813|254.71458853410687|0.14403157686502174| 0.7062057547169807|  0.318497142743106| 0.1580101596516689|-8.357973512336725|0.08343606676342534|123.05950653120458| 4.064562409288825|0.5855266328011616|0.48732656023222065|5.510885341074021|            0.0|       null|\n",
      "| stddev|                null|   94440.20411306122|22.46894865511685|                null|                null|  1035.5880294145286| 16.49882473118195|231621.8547421958|106721.02322336736|  9428.74114843624|0.21995277768593244|0.18393168760257708|0.36475181433877596|0.14421663044882757|3.0773669631307383|  0.269728133141322|20.777906446430478|3.3469301301928516|0.2639537755143156| 0.4998401829173931| 3.68635403102255|           null|       null|\n",
      "|    min|00Je3Ur2xmGEhZd08...|\"If You Feel The ...|                0|spotify:track:00J...|\"Evelyn \"\"Champag...|\"Love Come Down: ...|         Mann!\"\")\"|           115516|           63060.0|             0.228|            3.53E-6|            0.00472|                0.0|             0.0135|            -37.89|             -9.437|             0.103|               1.0|            0.0174|                0.0|              0.0|            0.0|      blues|\n",
      "|    max|7zkcY1CrKhj2kCIS9...|            Это лето|               91|spotify:track:7zk...|           ДЕТИ RAVE|               Этажи|        2023-02-17|            96062|          913214.0|          350009.0|              0.996|                1.0|              0.987|              0.967|            0.0665|              0.571|           207.029|           127.967|               4.0|                1.0|             11.0|workout product|     trance|\n",
      "+-------+--------------------+--------------------+-----------------+--------------------+--------------------+--------------------+------------------+-----------------+------------------+------------------+-------------------+-------------------+-------------------+-------------------+------------------+-------------------+------------------+------------------+------------------+-------------------+-----------------+---------------+-----------+\n",
      "\n"
     ]
    },
    {
     "name": "stderr",
     "output_type": "stream",
     "text": [
      "                                                                                \r"
     ]
    }
   ],
   "source": [
    "# Check for duplicates\n",
    "print(f\"Number of duplicate rows: {df.dropDuplicates().count() - df.count()}\")\n"
   ],
   "metadata": {
    "collapsed": false,
    "ExecuteTime": {
     "end_time": "2023-05-03T20:55:58.102166Z",
     "start_time": "2023-05-03T20:55:53.962597Z"
    }
   }
  },
  {
   "cell_type": "code",
   "execution_count": 55,
   "outputs": [
    {
     "name": "stderr",
     "output_type": "stream",
     "text": [
      "[Stage 747:>                                                        (0 + 1) / 1]\r"
     ]
    },
    {
     "name": "stdout",
     "output_type": "stream",
     "text": [
      "+-------+--------------------+--------------------+-----------------+--------------------+--------------------+--------------------+------------------+-----------------+------------------+------------------+-------------------+-------------------+-------------------+-------------------+------------------+-------------------+------------------+------------------+------------------+-------------------+-----------------+---------------+-----------+\n",
      "|summary|                  id|                name|       popularity|                 uri|              artist|               album|      release_date|      duration_ms|            length|      danceability|       acousticness|             energy|   instrumentalness|           liveness|          loudness|        speechiness|             tempo|    time_signature|           valence|               mode|              key|         genres|genre_group|\n",
      "+-------+--------------------+--------------------+-----------------+--------------------+--------------------+--------------------+------------------+-----------------+------------------+------------------+-------------------+-------------------+-------------------+-------------------+------------------+-------------------+------------------+------------------+------------------+-------------------+-----------------+---------------+-----------+\n",
      "|  count|                1380|                1380|             1380|                1380|                1380|                1380|              1380|             1380|              1378|              1378|               1378|               1378|               1378|               1378|              1378|               1378|              1378|              1378|              1378|               1378|             1378|           1147|       1092|\n",
      "|   mean|                null|            48551.75|36.46376811594203|                null|               150.0|  1339.8333333333333|1989.0232558139535|298284.0377084844| 292781.3642960813|254.71458853410687|0.14403157686502174| 0.7062057547169807|  0.318497142743106| 0.1580101596516689|-8.357973512336725|0.08343606676342534|123.05950653120458| 4.064562409288825|0.5855266328011616|0.48732656023222065|5.510885341074021|            0.0|       null|\n",
      "| stddev|                null|   94440.20411306122|22.46894865511685|                null|                null|  1035.5880294145286| 16.49882473118195|231621.8547421958|106721.02322336736|  9428.74114843624|0.21995277768593244|0.18393168760257708|0.36475181433877596|0.14421663044882757|3.0773669631307383|  0.269728133141322|20.777906446430478|3.3469301301928516|0.2639537755143156| 0.4998401829173931| 3.68635403102255|           null|       null|\n",
      "|    min|00Je3Ur2xmGEhZd08...|\"If You Feel The ...|                0|spotify:track:00J...|\"Evelyn \"\"Champag...|\"Love Come Down: ...|         Mann!\"\")\"|           115516|           63060.0|             0.228|            3.53E-6|            0.00472|                0.0|             0.0135|            -37.89|             -9.437|             0.103|               1.0|            0.0174|                0.0|              0.0|            0.0|      blues|\n",
      "|    max|7zkcY1CrKhj2kCIS9...|            Это лето|               91|spotify:track:7zk...|           ДЕТИ RAVE|               Этажи|        2023-02-17|            96062|          913214.0|          350009.0|              0.996|                1.0|              0.987|              0.967|            0.0665|              0.571|           207.029|           127.967|               4.0|                1.0|             11.0|workout product|     trance|\n",
      "+-------+--------------------+--------------------+-----------------+--------------------+--------------------+--------------------+------------------+-----------------+------------------+------------------+-------------------+-------------------+-------------------+-------------------+------------------+-------------------+------------------+------------------+------------------+-------------------+-----------------+---------------+-----------+\n",
      "\n"
     ]
    },
    {
     "name": "stderr",
     "output_type": "stream",
     "text": [
      "                                                                                \r"
     ]
    }
   ],
   "source": [
    "# Get summary statistics for numerical columns\n",
    "df.describe().show()"
   ],
   "metadata": {
    "collapsed": false,
    "ExecuteTime": {
     "end_time": "2023-05-03T20:45:37.496761Z",
     "start_time": "2023-05-03T20:45:35.234237Z"
    }
   }
  },
  {
   "cell_type": "markdown",
   "source": [
    "# Split the data between train and test"
   ],
   "metadata": {
    "collapsed": false,
    "ExecuteTime": {
     "end_time": "2023-05-03T20:55:58.152425Z",
     "start_time": "2023-05-03T20:55:58.102401Z"
    }
   },
   "outputs": [],
   "execution_count": 14
  },
  {
   "cell_type": "code",
   "execution_count": 56,
   "outputs": [],
   "source": [
    "# Split the data into train and test sets\n",
    "train, test = df.randomSplit([0.7, 0.3], seed=42)\n"
   ],
   "metadata": {
    "collapsed": false,
    "ExecuteTime": {
     "end_time": "2023-05-03T20:45:39.111364Z",
     "start_time": "2023-05-03T20:45:39.054442Z"
    }
   }
  },
  {
   "cell_type": "markdown",
   "source": [
    "# Drop the rows with more than 50% of NA values"
   ],
   "metadata": {
    "collapsed": false,
    "ExecuteTime": {
     "end_time": "2023-05-03T20:56:05.812177Z",
     "start_time": "2023-05-03T20:55:58.148326Z"
    }
   },
   "outputs": [
    {
     "name": "stdout",
     "output_type": "stream",
     "text": [
      "Number of rows dropping is 0\n"
     ]
    }
   ],
   "execution_count": 15
  },
  {
   "cell_type": "code",
   "execution_count": 57,
   "outputs": [
    {
     "name": "stdout",
     "output_type": "stream",
     "text": [
      "Number of rows dropping is 0\n"
     ]
    }
   ],
   "source": [
    "# Drop rows with more than 50% of NA values\n",
    "initial_count = df.count()\n",
    "df = df.drop(*[c for c in df.columns if (df.where(col(c).isNull()).count() > 0.5*df.count())])\n",
    "print(f\"Number of rows dropping is {df.count() - initial_count}\")"
   ],
   "metadata": {
    "collapsed": false,
    "ExecuteTime": {
     "end_time": "2023-05-03T20:45:44.252694Z",
     "start_time": "2023-05-03T20:45:40.628619Z"
    }
   }
  },
  {
   "cell_type": "markdown",
   "source": [
    "# Fill the remaining NA values with the median of the column or the mode if it's a category"
   ],
   "metadata": {
    "collapsed": false,
    "ExecuteTime": {
     "end_time": "2023-05-03T20:56:06.711155Z",
     "start_time": "2023-05-03T20:56:06.664477Z"
    }
   },
   "outputs": [],
   "execution_count": 16
  },
  {
   "cell_type": "code",
   "execution_count": 17,
   "outputs": [],
   "source": [
    "# only select the collumns popularity, danceability, energy, key, loudness, mode, speechiness, acousticness, instrumentalness, liveness, valence, tempo, time_signature. These are the columns that i want to use for my model.\n",
    "df2 = df.select(\"popularity\", \"danceability\", \"energy\", \"key\", \"loudness\", \"mode\", \"speechiness\", \"acousticness\", \"instrumentalness\", \"liveness\", \"valence\", \"tempo\", \"time_signature\")"
   ],
   "metadata": {
    "collapsed": false,
    "ExecuteTime": {
     "end_time": "2023-05-03T20:56:07.161871Z",
     "start_time": "2023-05-03T20:56:07.158576Z"
    }
   }
  },
  {
   "cell_type": "code",
   "execution_count": 18,
   "outputs": [
    {
     "name": "stderr",
     "output_type": "stream",
     "text": [
      "23/05/03 22:56:07 WARN WindowExec: No Partition Defined for Window operation! Moving all data to a single partition, this can cause serious performance degradation.\n",
      "23/05/03 22:56:07 WARN WindowExec: No Partition Defined for Window operation! Moving all data to a single partition, this can cause serious performance degradation.\n",
      "23/05/03 22:56:07 WARN WindowExec: No Partition Defined for Window operation! Moving all data to a single partition, this can cause serious performance degradation.\n",
      "23/05/03 22:56:08 WARN WindowExec: No Partition Defined for Window operation! Moving all data to a single partition, this can cause serious performance degradation.\n",
      "23/05/03 22:56:08 WARN WindowExec: No Partition Defined for Window operation! Moving all data to a single partition, this can cause serious performance degradation.\n",
      "23/05/03 22:56:08 WARN WindowExec: No Partition Defined for Window operation! Moving all data to a single partition, this can cause serious performance degradation.\n",
      "23/05/03 22:56:08 WARN WindowExec: No Partition Defined for Window operation! Moving all data to a single partition, this can cause serious performance degradation.\n",
      "23/05/03 22:56:08 WARN WindowExec: No Partition Defined for Window operation! Moving all data to a single partition, this can cause serious performance degradation.\n",
      "23/05/03 22:56:08 WARN WindowExec: No Partition Defined for Window operation! Moving all data to a single partition, this can cause serious performance degradation.\n",
      "23/05/03 22:56:08 WARN WindowExec: No Partition Defined for Window operation! Moving all data to a single partition, this can cause serious performance degradation.\n",
      "23/05/03 22:56:09 WARN WindowExec: No Partition Defined for Window operation! Moving all data to a single partition, this can cause serious performance degradation.\n",
      "23/05/03 22:56:09 WARN WindowExec: No Partition Defined for Window operation! Moving all data to a single partition, this can cause serious performance degradation.\n",
      "23/05/03 22:56:09 WARN WindowExec: No Partition Defined for Window operation! Moving all data to a single partition, this can cause serious performance degradation.\n",
      "23/05/03 22:56:09 WARN WindowExec: No Partition Defined for Window operation! Moving all data to a single partition, this can cause serious performance degradation.\n",
      "23/05/03 22:56:09 WARN WindowExec: No Partition Defined for Window operation! Moving all data to a single partition, this can cause serious performance degradation.\n",
      "23/05/03 22:56:09 WARN WindowExec: No Partition Defined for Window operation! Moving all data to a single partition, this can cause serious performance degradation.\n",
      "23/05/03 22:56:09 WARN WindowExec: No Partition Defined for Window operation! Moving all data to a single partition, this can cause serious performance degradation.\n",
      "23/05/03 22:56:09 WARN WindowExec: No Partition Defined for Window operation! Moving all data to a single partition, this can cause serious performance degradation.\n",
      "23/05/03 22:56:09 WARN WindowExec: No Partition Defined for Window operation! Moving all data to a single partition, this can cause serious performance degradation.\n",
      "23/05/03 22:56:09 WARN WindowExec: No Partition Defined for Window operation! Moving all data to a single partition, this can cause serious performance degradation.\n",
      "23/05/03 22:56:10 WARN WindowExec: No Partition Defined for Window operation! Moving all data to a single partition, this can cause serious performance degradation.\n",
      "23/05/03 22:56:10 WARN WindowExec: No Partition Defined for Window operation! Moving all data to a single partition, this can cause serious performance degradation.\n",
      "23/05/03 22:56:10 WARN WindowExec: No Partition Defined for Window operation! Moving all data to a single partition, this can cause serious performance degradation.\n",
      "23/05/03 22:56:10 WARN WindowExec: No Partition Defined for Window operation! Moving all data to a single partition, this can cause serious performance degradation.\n",
      "23/05/03 22:56:10 WARN WindowExec: No Partition Defined for Window operation! Moving all data to a single partition, this can cause serious performance degradation.\n",
      "23/05/03 22:56:10 WARN WindowExec: No Partition Defined for Window operation! Moving all data to a single partition, this can cause serious performance degradation.\n",
      "23/05/03 22:56:10 WARN WindowExec: No Partition Defined for Window operation! Moving all data to a single partition, this can cause serious performance degradation.\n",
      "23/05/03 22:56:10 WARN WindowExec: No Partition Defined for Window operation! Moving all data to a single partition, this can cause serious performance degradation.\n",
      "23/05/03 22:56:10 WARN WindowExec: No Partition Defined for Window operation! Moving all data to a single partition, this can cause serious performance degradation.\n",
      "23/05/03 22:56:10 WARN WindowExec: No Partition Defined for Window operation! Moving all data to a single partition, this can cause serious performance degradation.\n",
      "23/05/03 22:56:10 WARN WindowExec: No Partition Defined for Window operation! Moving all data to a single partition, this can cause serious performance degradation.\n",
      "23/05/03 22:56:10 WARN WindowExec: No Partition Defined for Window operation! Moving all data to a single partition, this can cause serious performance degradation.\n",
      "23/05/03 22:56:10 WARN WindowExec: No Partition Defined for Window operation! Moving all data to a single partition, this can cause serious performance degradation.\n",
      "23/05/03 22:56:10 WARN WindowExec: No Partition Defined for Window operation! Moving all data to a single partition, this can cause serious performance degradation.\n",
      "23/05/03 22:56:10 WARN WindowExec: No Partition Defined for Window operation! Moving all data to a single partition, this can cause serious performance degradation.\n",
      "23/05/03 22:56:11 WARN WindowExec: No Partition Defined for Window operation! Moving all data to a single partition, this can cause serious performance degradation.\n",
      "23/05/03 22:56:11 WARN WindowExec: No Partition Defined for Window operation! Moving all data to a single partition, this can cause serious performance degradation.\n",
      "23/05/03 22:56:11 WARN WindowExec: No Partition Defined for Window operation! Moving all data to a single partition, this can cause serious performance degradation.\n",
      "23/05/03 22:56:11 WARN WindowExec: No Partition Defined for Window operation! Moving all data to a single partition, this can cause serious performance degradation.\n",
      "23/05/03 22:56:11 WARN WindowExec: No Partition Defined for Window operation! Moving all data to a single partition, this can cause serious performance degradation.\n",
      "23/05/03 22:56:11 WARN WindowExec: No Partition Defined for Window operation! Moving all data to a single partition, this can cause serious performance degradation.\n",
      "23/05/03 22:56:11 WARN WindowExec: No Partition Defined for Window operation! Moving all data to a single partition, this can cause serious performance degradation.\n",
      "23/05/03 22:56:11 WARN WindowExec: No Partition Defined for Window operation! Moving all data to a single partition, this can cause serious performance degradation.\n",
      "23/05/03 22:56:11 WARN WindowExec: No Partition Defined for Window operation! Moving all data to a single partition, this can cause serious performance degradation.\n",
      "23/05/03 22:56:11 WARN WindowExec: No Partition Defined for Window operation! Moving all data to a single partition, this can cause serious performance degradation.\n",
      "23/05/03 22:56:11 WARN WindowExec: No Partition Defined for Window operation! Moving all data to a single partition, this can cause serious performance degradation.\n",
      "23/05/03 22:56:11 WARN WindowExec: No Partition Defined for Window operation! Moving all data to a single partition, this can cause serious performance degradation.\n",
      "23/05/03 22:56:11 WARN WindowExec: No Partition Defined for Window operation! Moving all data to a single partition, this can cause serious performance degradation.\n",
      "23/05/03 22:56:11 WARN WindowExec: No Partition Defined for Window operation! Moving all data to a single partition, this can cause serious performance degradation.\n",
      "23/05/03 22:56:11 WARN WindowExec: No Partition Defined for Window operation! Moving all data to a single partition, this can cause serious performance degradation.\n",
      "23/05/03 22:56:11 WARN WindowExec: No Partition Defined for Window operation! Moving all data to a single partition, this can cause serious performance degradation.\n",
      "23/05/03 22:56:11 WARN WindowExec: No Partition Defined for Window operation! Moving all data to a single partition, this can cause serious performance degradation.\n",
      "23/05/03 22:56:11 WARN WindowExec: No Partition Defined for Window operation! Moving all data to a single partition, this can cause serious performance degradation.\n",
      "23/05/03 22:56:11 WARN WindowExec: No Partition Defined for Window operation! Moving all data to a single partition, this can cause serious performance degradation.\n",
      "23/05/03 22:56:11 WARN WindowExec: No Partition Defined for Window operation! Moving all data to a single partition, this can cause serious performance degradation.\n",
      "23/05/03 22:56:11 WARN WindowExec: No Partition Defined for Window operation! Moving all data to a single partition, this can cause serious performance degradation.\n",
      "23/05/03 22:56:11 WARN WindowExec: No Partition Defined for Window operation! Moving all data to a single partition, this can cause serious performance degradation.\n",
      "23/05/03 22:56:11 WARN WindowExec: No Partition Defined for Window operation! Moving all data to a single partition, this can cause serious performance degradation.\n",
      "23/05/03 22:56:12 WARN WindowExec: No Partition Defined for Window operation! Moving all data to a single partition, this can cause serious performance degradation.\n",
      "23/05/03 22:56:12 WARN WindowExec: No Partition Defined for Window operation! Moving all data to a single partition, this can cause serious performance degradation.\n",
      "23/05/03 22:56:12 WARN WindowExec: No Partition Defined for Window operation! Moving all data to a single partition, this can cause serious performance degradation.\n",
      "23/05/03 22:56:12 WARN WindowExec: No Partition Defined for Window operation! Moving all data to a single partition, this can cause serious performance degradation.\n",
      "23/05/03 22:56:12 WARN WindowExec: No Partition Defined for Window operation! Moving all data to a single partition, this can cause serious performance degradation.\n",
      "23/05/03 22:56:12 WARN WindowExec: No Partition Defined for Window operation! Moving all data to a single partition, this can cause serious performance degradation.\n",
      "23/05/03 22:56:12 WARN WindowExec: No Partition Defined for Window operation! Moving all data to a single partition, this can cause serious performance degradation.\n"
     ]
    },
    {
     "name": "stdout",
     "output_type": "stream",
     "text": [
      "+----------+------------+------+----+--------+----+-----------+------------+----------------+--------+-------+-------+--------------+\n",
      "|popularity|danceability|energy| key|loudness|mode|speechiness|acousticness|instrumentalness|liveness|valence|  tempo|time_signature|\n",
      "+----------+------------+------+----+--------+----+-----------+------------+----------------+--------+-------+-------+--------------+\n",
      "|        42|       0.729| 0.998| 8.0|  -8.161| 1.0|     0.0614|     0.00283|           0.298|    0.09|  0.653|146.006|           4.0|\n",
      "|        52|        0.83| 0.688| 5.0|  -9.539| 0.0|     0.0706|      0.0621|           0.708|    0.12|   0.73|123.979|           4.0|\n",
      "|         3|       0.923| 0.564|11.0|  -9.748| 0.0|      0.123|     0.00506|           0.164|  0.0423|  0.734|124.979|           4.0|\n",
      "|        42|       0.374| 0.571| 3.0| -10.513| 0.0|     0.0748|        0.71|           0.538|   0.139| 0.0379|127.014|           4.0|\n",
      "|        39|       0.649| 0.861|11.0|  -6.255| 0.0|     0.0472|     0.00501|           0.873|   0.287|  0.612|132.998|           4.0|\n",
      "|        42|       0.645|  0.96|10.0|  -5.807| 0.0|     0.0385|     3.36E-4|           0.898|  0.0765|  0.965|148.006|           4.0|\n",
      "|        34|       0.606| 0.996| 7.0|  -7.465| 1.0|     0.0478|      0.0166|           0.753|    0.22|  0.364|149.976|           4.0|\n",
      "|        51|       0.668| 0.897| 3.0|  -8.289| 0.0|     0.0492|       0.202|           0.901|  0.0986|  0.516|127.972|           4.0|\n",
      "|        43|       0.796| 0.657| 2.0|  -9.726| 1.0|     0.0649|      0.0279|           0.897|  0.0926|  0.221|132.992|           4.0|\n",
      "|        48|       0.712| 0.935|11.0|  -4.213| 1.0|     0.0712|     5.62E-5|           0.868|  0.0511|  0.903|155.007|           4.0|\n",
      "|        51|       0.635| 0.933| 7.0|  -7.264| 1.0|     0.0459|     3.33E-4|           0.964|   0.166|  0.876|150.021|           4.0|\n",
      "|        53|       0.785| 0.579| 7.0| -10.069| 1.0|     0.0356|        0.18|           0.543|   0.168|  0.262|127.003|           4.0|\n",
      "|        56|        0.39| 0.296| 4.0| -11.859| 1.0|     0.0314|       0.802|         1.14E-5|   0.206|  0.396|151.824|           4.0|\n",
      "|        49|       0.582| 0.753| 6.0|  -3.984| 0.0|     0.0322|     0.00779|         1.53E-4|   0.103|  0.145| 87.497|           4.0|\n",
      "|        53|       0.395| 0.875| 2.0|  -4.613| 0.0|     0.0448|      0.0725|           0.116|   0.225| 0.0656| 86.956|           4.0|\n",
      "|        52|       0.767| 0.505|11.0| -13.278| 0.0|      0.372|       0.505|             0.0|   0.125|  0.831|121.884|           4.0|\n",
      "|        46|       0.465| 0.919| 6.0|  -6.419| 0.0|     0.0423|     0.00155|           0.841|   0.378|  0.231|137.937|           4.0|\n",
      "|        55|       0.815| 0.596| 4.0| -11.735| 0.0|     0.0486|      0.0989|           0.891|   0.106|   0.57|125.009|           4.0|\n",
      "|        41|       0.682| 0.406| 1.0|   -9.84| 1.0|     0.0646|     0.00248|           0.765|   0.133|  0.622|129.975|           4.0|\n",
      "|        28|       0.657| 0.547|11.0| -12.403| 1.0|     0.0592|     0.00847|            0.97|   0.102|  0.909|129.012|           4.0|\n",
      "+----------+------------+------+----+--------+----+-----------+------------+----------------+--------+-------+-------+--------------+\n",
      "only showing top 20 rows\n",
      "\n"
     ]
    }
   ],
   "source": [
    "# Calculate median or mode for each column\n",
    "from pyspark.sql.types import StringType, TimestampType\n",
    "def calculate_median_mode(column):\n",
    "    column_type = df2.schema[column].dataType\n",
    "    if column_type == StringType():\n",
    "        mode = df2.groupBy(column).count().orderBy(\"count\", ascending=False).first()\n",
    "        return mode[0] if mode else \"Unknown\"\n",
    "    else:\n",
    "        data_with_rank = df2.withColumn(\"rank\", row_number().over(Window.orderBy(column)))\n",
    "        median_index = df2.count() // 2\n",
    "        median = data_with_rank.filter(col(\"rank\") == median_index).select(column).first()\n",
    "        if median:\n",
    "            if column_type == TimestampType():\n",
    "                return median[0].timestamp()\n",
    "            else:\n",
    "                return median[0]\n",
    "        else:\n",
    "            return 0 if column_type != TimestampType() else 0.0"
   ],
   "metadata": {
    "collapsed": false,
    "ExecuteTime": {
     "end_time": "2023-05-03T20:56:12.700197Z",
     "start_time": "2023-05-03T20:56:07.760893Z"
    }
   }
  },
  {
   "cell_type": "code",
   "execution_count": 61,
   "outputs": [
    {
     "name": "stderr",
     "output_type": "stream",
     "text": [
      "23/05/03 22:46:26 WARN WindowExec: No Partition Defined for Window operation! Moving all data to a single partition, this can cause serious performance degradation.\n",
      "23/05/03 22:46:26 WARN WindowExec: No Partition Defined for Window operation! Moving all data to a single partition, this can cause serious performance degradation.\n",
      "23/05/03 22:46:26 WARN WindowExec: No Partition Defined for Window operation! Moving all data to a single partition, this can cause serious performance degradation.\n",
      "23/05/03 22:46:26 WARN WindowExec: No Partition Defined for Window operation! Moving all data to a single partition, this can cause serious performance degradation.\n",
      "23/05/03 22:46:26 WARN WindowExec: No Partition Defined for Window operation! Moving all data to a single partition, this can cause serious performance degradation.\n",
      "23/05/03 22:46:26 WARN WindowExec: No Partition Defined for Window operation! Moving all data to a single partition, this can cause serious performance degradation.\n",
      "23/05/03 22:46:26 WARN WindowExec: No Partition Defined for Window operation! Moving all data to a single partition, this can cause serious performance degradation.\n",
      "23/05/03 22:46:26 WARN WindowExec: No Partition Defined for Window operation! Moving all data to a single partition, this can cause serious performance degradation.\n",
      "23/05/03 22:46:26 WARN WindowExec: No Partition Defined for Window operation! Moving all data to a single partition, this can cause serious performance degradation.\n",
      "23/05/03 22:46:26 WARN WindowExec: No Partition Defined for Window operation! Moving all data to a single partition, this can cause serious performance degradation.\n",
      "23/05/03 22:46:27 WARN WindowExec: No Partition Defined for Window operation! Moving all data to a single partition, this can cause serious performance degradation.\n",
      "23/05/03 22:46:27 WARN WindowExec: No Partition Defined for Window operation! Moving all data to a single partition, this can cause serious performance degradation.\n",
      "23/05/03 22:46:27 WARN WindowExec: No Partition Defined for Window operation! Moving all data to a single partition, this can cause serious performance degradation.\n",
      "23/05/03 22:46:27 WARN WindowExec: No Partition Defined for Window operation! Moving all data to a single partition, this can cause serious performance degradation.\n",
      "23/05/03 22:46:27 WARN WindowExec: No Partition Defined for Window operation! Moving all data to a single partition, this can cause serious performance degradation.\n",
      "23/05/03 22:46:27 WARN WindowExec: No Partition Defined for Window operation! Moving all data to a single partition, this can cause serious performance degradation.\n",
      "23/05/03 22:46:27 WARN WindowExec: No Partition Defined for Window operation! Moving all data to a single partition, this can cause serious performance degradation.\n",
      "23/05/03 22:46:27 WARN WindowExec: No Partition Defined for Window operation! Moving all data to a single partition, this can cause serious performance degradation.\n",
      "23/05/03 22:46:27 WARN WindowExec: No Partition Defined for Window operation! Moving all data to a single partition, this can cause serious performance degradation.\n",
      "23/05/03 22:46:27 WARN WindowExec: No Partition Defined for Window operation! Moving all data to a single partition, this can cause serious performance degradation.\n",
      "23/05/03 22:46:27 WARN WindowExec: No Partition Defined for Window operation! Moving all data to a single partition, this can cause serious performance degradation.\n",
      "23/05/03 22:46:27 WARN WindowExec: No Partition Defined for Window operation! Moving all data to a single partition, this can cause serious performance degradation.\n",
      "23/05/03 22:46:27 WARN WindowExec: No Partition Defined for Window operation! Moving all data to a single partition, this can cause serious performance degradation.\n",
      "23/05/03 22:46:27 WARN WindowExec: No Partition Defined for Window operation! Moving all data to a single partition, this can cause serious performance degradation.\n",
      "23/05/03 22:46:27 WARN WindowExec: No Partition Defined for Window operation! Moving all data to a single partition, this can cause serious performance degradation.\n",
      "23/05/03 22:46:28 WARN WindowExec: No Partition Defined for Window operation! Moving all data to a single partition, this can cause serious performance degradation.\n",
      "23/05/03 22:46:28 WARN WindowExec: No Partition Defined for Window operation! Moving all data to a single partition, this can cause serious performance degradation.\n",
      "23/05/03 22:46:28 WARN WindowExec: No Partition Defined for Window operation! Moving all data to a single partition, this can cause serious performance degradation.\n",
      "23/05/03 22:46:28 WARN WindowExec: No Partition Defined for Window operation! Moving all data to a single partition, this can cause serious performance degradation.\n",
      "23/05/03 22:46:28 WARN WindowExec: No Partition Defined for Window operation! Moving all data to a single partition, this can cause serious performance degradation.\n",
      "23/05/03 22:46:28 WARN WindowExec: No Partition Defined for Window operation! Moving all data to a single partition, this can cause serious performance degradation.\n",
      "23/05/03 22:46:28 WARN WindowExec: No Partition Defined for Window operation! Moving all data to a single partition, this can cause serious performance degradation.\n",
      "23/05/03 22:46:28 WARN WindowExec: No Partition Defined for Window operation! Moving all data to a single partition, this can cause serious performance degradation.\n",
      "23/05/03 22:46:28 WARN WindowExec: No Partition Defined for Window operation! Moving all data to a single partition, this can cause serious performance degradation.\n",
      "23/05/03 22:46:28 WARN WindowExec: No Partition Defined for Window operation! Moving all data to a single partition, this can cause serious performance degradation.\n",
      "23/05/03 22:46:28 WARN WindowExec: No Partition Defined for Window operation! Moving all data to a single partition, this can cause serious performance degradation.\n",
      "23/05/03 22:46:28 WARN WindowExec: No Partition Defined for Window operation! Moving all data to a single partition, this can cause serious performance degradation.\n",
      "23/05/03 22:46:28 WARN WindowExec: No Partition Defined for Window operation! Moving all data to a single partition, this can cause serious performance degradation.\n",
      "23/05/03 22:46:28 WARN WindowExec: No Partition Defined for Window operation! Moving all data to a single partition, this can cause serious performance degradation.\n",
      "23/05/03 22:46:28 WARN WindowExec: No Partition Defined for Window operation! Moving all data to a single partition, this can cause serious performance degradation.\n",
      "23/05/03 22:46:28 WARN WindowExec: No Partition Defined for Window operation! Moving all data to a single partition, this can cause serious performance degradation.\n",
      "23/05/03 22:46:28 WARN WindowExec: No Partition Defined for Window operation! Moving all data to a single partition, this can cause serious performance degradation.\n",
      "23/05/03 22:46:28 WARN WindowExec: No Partition Defined for Window operation! Moving all data to a single partition, this can cause serious performance degradation.\n",
      "23/05/03 22:46:28 WARN WindowExec: No Partition Defined for Window operation! Moving all data to a single partition, this can cause serious performance degradation.\n",
      "23/05/03 22:46:28 WARN WindowExec: No Partition Defined for Window operation! Moving all data to a single partition, this can cause serious performance degradation.\n",
      "23/05/03 22:46:28 WARN WindowExec: No Partition Defined for Window operation! Moving all data to a single partition, this can cause serious performance degradation.\n",
      "23/05/03 22:46:28 WARN WindowExec: No Partition Defined for Window operation! Moving all data to a single partition, this can cause serious performance degradation.\n",
      "23/05/03 22:46:28 WARN WindowExec: No Partition Defined for Window operation! Moving all data to a single partition, this can cause serious performance degradation.\n",
      "23/05/03 22:46:28 WARN WindowExec: No Partition Defined for Window operation! Moving all data to a single partition, this can cause serious performance degradation.\n",
      "23/05/03 22:46:28 WARN WindowExec: No Partition Defined for Window operation! Moving all data to a single partition, this can cause serious performance degradation.\n",
      "23/05/03 22:46:29 WARN WindowExec: No Partition Defined for Window operation! Moving all data to a single partition, this can cause serious performance degradation.\n",
      "23/05/03 22:46:29 WARN WindowExec: No Partition Defined for Window operation! Moving all data to a single partition, this can cause serious performance degradation.\n",
      "23/05/03 22:46:29 WARN WindowExec: No Partition Defined for Window operation! Moving all data to a single partition, this can cause serious performance degradation.\n",
      "23/05/03 22:46:29 WARN WindowExec: No Partition Defined for Window operation! Moving all data to a single partition, this can cause serious performance degradation.\n",
      "23/05/03 22:46:29 WARN WindowExec: No Partition Defined for Window operation! Moving all data to a single partition, this can cause serious performance degradation.\n",
      "23/05/03 22:46:29 WARN WindowExec: No Partition Defined for Window operation! Moving all data to a single partition, this can cause serious performance degradation.\n",
      "23/05/03 22:46:29 WARN WindowExec: No Partition Defined for Window operation! Moving all data to a single partition, this can cause serious performance degradation.\n",
      "23/05/03 22:46:29 WARN WindowExec: No Partition Defined for Window operation! Moving all data to a single partition, this can cause serious performance degradation.\n",
      "23/05/03 22:46:29 WARN WindowExec: No Partition Defined for Window operation! Moving all data to a single partition, this can cause serious performance degradation.\n",
      "23/05/03 22:46:29 WARN WindowExec: No Partition Defined for Window operation! Moving all data to a single partition, this can cause serious performance degradation.\n",
      "23/05/03 22:46:29 WARN WindowExec: No Partition Defined for Window operation! Moving all data to a single partition, this can cause serious performance degradation.\n",
      "23/05/03 22:46:29 WARN WindowExec: No Partition Defined for Window operation! Moving all data to a single partition, this can cause serious performance degradation.\n",
      "23/05/03 22:46:29 WARN WindowExec: No Partition Defined for Window operation! Moving all data to a single partition, this can cause serious performance degradation.\n",
      "23/05/03 22:46:29 WARN WindowExec: No Partition Defined for Window operation! Moving all data to a single partition, this can cause serious performance degradation.\n",
      "23/05/03 22:46:29 WARN WindowExec: No Partition Defined for Window operation! Moving all data to a single partition, this can cause serious performance degradation.\n"
     ]
    },
    {
     "name": "stdout",
     "output_type": "stream",
     "text": [
      "+----------+------------+------+----+--------+----+-----------+------------+----------------+--------+-------+-------+--------------+\n",
      "|popularity|danceability|energy| key|loudness|mode|speechiness|acousticness|instrumentalness|liveness|valence|  tempo|time_signature|\n",
      "+----------+------------+------+----+--------+----+-----------+------------+----------------+--------+-------+-------+--------------+\n",
      "|        42|       0.729| 0.998| 8.0|  -8.161| 1.0|     0.0614|     0.00283|           0.298|    0.09|  0.653|146.006|           4.0|\n",
      "|        52|        0.83| 0.688| 5.0|  -9.539| 0.0|     0.0706|      0.0621|           0.708|    0.12|   0.73|123.979|           4.0|\n",
      "|         3|       0.923| 0.564|11.0|  -9.748| 0.0|      0.123|     0.00506|           0.164|  0.0423|  0.734|124.979|           4.0|\n",
      "|        42|       0.374| 0.571| 3.0| -10.513| 0.0|     0.0748|        0.71|           0.538|   0.139| 0.0379|127.014|           4.0|\n",
      "|        39|       0.649| 0.861|11.0|  -6.255| 0.0|     0.0472|     0.00501|           0.873|   0.287|  0.612|132.998|           4.0|\n",
      "|        42|       0.645|  0.96|10.0|  -5.807| 0.0|     0.0385|     3.36E-4|           0.898|  0.0765|  0.965|148.006|           4.0|\n",
      "|        34|       0.606| 0.996| 7.0|  -7.465| 1.0|     0.0478|      0.0166|           0.753|    0.22|  0.364|149.976|           4.0|\n",
      "|        51|       0.668| 0.897| 3.0|  -8.289| 0.0|     0.0492|       0.202|           0.901|  0.0986|  0.516|127.972|           4.0|\n",
      "|        43|       0.796| 0.657| 2.0|  -9.726| 1.0|     0.0649|      0.0279|           0.897|  0.0926|  0.221|132.992|           4.0|\n",
      "|        48|       0.712| 0.935|11.0|  -4.213| 1.0|     0.0712|     5.62E-5|           0.868|  0.0511|  0.903|155.007|           4.0|\n",
      "|        51|       0.635| 0.933| 7.0|  -7.264| 1.0|     0.0459|     3.33E-4|           0.964|   0.166|  0.876|150.021|           4.0|\n",
      "|        53|       0.785| 0.579| 7.0| -10.069| 1.0|     0.0356|        0.18|           0.543|   0.168|  0.262|127.003|           4.0|\n",
      "|        56|        0.39| 0.296| 4.0| -11.859| 1.0|     0.0314|       0.802|         1.14E-5|   0.206|  0.396|151.824|           4.0|\n",
      "|        49|       0.582| 0.753| 6.0|  -3.984| 0.0|     0.0322|     0.00779|         1.53E-4|   0.103|  0.145| 87.497|           4.0|\n",
      "|        53|       0.395| 0.875| 2.0|  -4.613| 0.0|     0.0448|      0.0725|           0.116|   0.225| 0.0656| 86.956|           4.0|\n",
      "|        52|       0.767| 0.505|11.0| -13.278| 0.0|      0.372|       0.505|             0.0|   0.125|  0.831|121.884|           4.0|\n",
      "|        46|       0.465| 0.919| 6.0|  -6.419| 0.0|     0.0423|     0.00155|           0.841|   0.378|  0.231|137.937|           4.0|\n",
      "|        55|       0.815| 0.596| 4.0| -11.735| 0.0|     0.0486|      0.0989|           0.891|   0.106|   0.57|125.009|           4.0|\n",
      "|        41|       0.682| 0.406| 1.0|   -9.84| 1.0|     0.0646|     0.00248|           0.765|   0.133|  0.622|129.975|           4.0|\n",
      "|        28|       0.657| 0.547|11.0| -12.403| 1.0|     0.0592|     0.00847|            0.97|   0.102|  0.909|129.012|           4.0|\n",
      "+----------+------------+------+----+--------+----+-----------+------------+----------------+--------+-------+-------+--------------+\n",
      "only showing top 20 rows\n",
      "\n"
     ]
    }
   ],
   "source": [
    "# Fill NA values with median or mode\n",
    "filled_data = df2\n",
    "for column in df2.columns:\n",
    "    median_mode = calculate_median_mode(column)\n",
    "    filled_data = filled_data.na.fill(median_mode, [column])\n",
    "\n",
    "# Show the result\n",
    "filled_data.show()"
   ],
   "metadata": {
    "collapsed": false,
    "ExecuteTime": {
     "end_time": "2023-05-03T20:46:29.893510Z",
     "start_time": "2023-05-03T20:46:26.218381Z"
    }
   }
  },
  {
   "cell_type": "markdown",
   "source": [
    "# Apply a normalization technique to the data (min-max or standard deviation)"
   ],
   "metadata": {
    "collapsed": false,
    "ExecuteTime": {
     "end_time": "2023-05-03T20:56:14.733316Z",
     "start_time": "2023-05-03T20:56:12.702193Z"
    }
   },
   "outputs": [
    {
     "name": "stdout",
     "output_type": "stream",
     "text": [
      "+----------+------------+------+----+--------+----+-----------+------------+----------------+--------+-------+-------+--------------+--------------------+--------------------+\n",
      "|popularity|danceability|energy| key|loudness|mode|speechiness|acousticness|instrumentalness|liveness|valence|  tempo|time_signature|            features|      scaledFeatures|\n",
      "+----------+------------+------+----+--------+----+-----------+------------+----------------+--------+-------+-------+--------------+--------------------+--------------------+\n",
      "|        42|       0.729| 0.998| 8.0|  -8.161| 1.0|     0.0614|     0.00283|           0.298|    0.09|  0.653|146.006|           4.0|[42.0,0.729,0.998...|[0.46153846153846...|\n",
      "|        52|        0.83| 0.688| 5.0|  -9.539| 0.0|     0.0706|      0.0621|           0.708|    0.12|   0.73|123.979|           4.0|[52.0,0.83,0.688,...|[0.57142857142857...|\n",
      "|         3|       0.923| 0.564|11.0|  -9.748| 0.0|      0.123|     0.00506|           0.164|  0.0423|  0.734|124.979|           4.0|[3.0,0.923,0.564,...|[0.03296703296703...|\n",
      "|        42|       0.374| 0.571| 3.0| -10.513| 0.0|     0.0748|        0.71|           0.538|   0.139| 0.0379|127.014|           4.0|[42.0,0.374,0.571...|[0.46153846153846...|\n",
      "|        39|       0.649| 0.861|11.0|  -6.255| 0.0|     0.0472|     0.00501|           0.873|   0.287|  0.612|132.998|           4.0|[39.0,0.649,0.861...|[0.42857142857142...|\n",
      "|        42|       0.645|  0.96|10.0|  -5.807| 0.0|     0.0385|     3.36E-4|           0.898|  0.0765|  0.965|148.006|           4.0|[42.0,0.645,0.96,...|[0.46153846153846...|\n",
      "|        34|       0.606| 0.996| 7.0|  -7.465| 1.0|     0.0478|      0.0166|           0.753|    0.22|  0.364|149.976|           4.0|[34.0,0.606,0.996...|[0.37362637362637...|\n",
      "|        51|       0.668| 0.897| 3.0|  -8.289| 0.0|     0.0492|       0.202|           0.901|  0.0986|  0.516|127.972|           4.0|[51.0,0.668,0.897...|[0.56043956043956...|\n",
      "|        43|       0.796| 0.657| 2.0|  -9.726| 1.0|     0.0649|      0.0279|           0.897|  0.0926|  0.221|132.992|           4.0|[43.0,0.796,0.657...|[0.47252747252747...|\n",
      "|        48|       0.712| 0.935|11.0|  -4.213| 1.0|     0.0712|     5.62E-5|           0.868|  0.0511|  0.903|155.007|           4.0|[48.0,0.712,0.935...|[0.52747252747252...|\n",
      "|        51|       0.635| 0.933| 7.0|  -7.264| 1.0|     0.0459|     3.33E-4|           0.964|   0.166|  0.876|150.021|           4.0|[51.0,0.635,0.933...|[0.56043956043956...|\n",
      "|        53|       0.785| 0.579| 7.0| -10.069| 1.0|     0.0356|        0.18|           0.543|   0.168|  0.262|127.003|           4.0|[53.0,0.785,0.579...|[0.58241758241758...|\n",
      "|        56|        0.39| 0.296| 4.0| -11.859| 1.0|     0.0314|       0.802|         1.14E-5|   0.206|  0.396|151.824|           4.0|[56.0,0.39,0.296,...|[0.61538461538461...|\n",
      "|        49|       0.582| 0.753| 6.0|  -3.984| 0.0|     0.0322|     0.00779|         1.53E-4|   0.103|  0.145| 87.497|           4.0|[49.0,0.582,0.753...|[0.53846153846153...|\n",
      "|        53|       0.395| 0.875| 2.0|  -4.613| 0.0|     0.0448|      0.0725|           0.116|   0.225| 0.0656| 86.956|           4.0|[53.0,0.395,0.875...|[0.58241758241758...|\n",
      "|        52|       0.767| 0.505|11.0| -13.278| 0.0|      0.372|       0.505|             0.0|   0.125|  0.831|121.884|           4.0|[52.0,0.767,0.505...|[0.57142857142857...|\n",
      "|        46|       0.465| 0.919| 6.0|  -6.419| 0.0|     0.0423|     0.00155|           0.841|   0.378|  0.231|137.937|           4.0|[46.0,0.465,0.919...|[0.50549450549450...|\n",
      "|        55|       0.815| 0.596| 4.0| -11.735| 0.0|     0.0486|      0.0989|           0.891|   0.106|   0.57|125.009|           4.0|[55.0,0.815,0.596...|[0.60439560439560...|\n",
      "|        41|       0.682| 0.406| 1.0|   -9.84| 1.0|     0.0646|     0.00248|           0.765|   0.133|  0.622|129.975|           4.0|[41.0,0.682,0.406...|[0.45054945054945...|\n",
      "|        28|       0.657| 0.547|11.0| -12.403| 1.0|     0.0592|     0.00847|            0.97|   0.102|  0.909|129.012|           4.0|[28.0,0.657,0.547...|[0.30769230769230...|\n",
      "+----------+------------+------+----+--------+----+-----------+------------+----------------+--------+-------+-------+--------------+--------------------+--------------------+\n",
      "only showing top 20 rows\n",
      "\n"
     ]
    }
   ],
   "execution_count": 19
  },
  {
   "cell_type": "code",
   "execution_count": 62,
   "outputs": [
    {
     "name": "stdout",
     "output_type": "stream",
     "text": [
      "+----------+------------+------+----+--------+----+-----------+------------+----------------+--------+-------+-------+--------------+--------------------+--------------------+\n",
      "|popularity|danceability|energy| key|loudness|mode|speechiness|acousticness|instrumentalness|liveness|valence|  tempo|time_signature|            features|      scaledFeatures|\n",
      "+----------+------------+------+----+--------+----+-----------+------------+----------------+--------+-------+-------+--------------+--------------------+--------------------+\n",
      "|        42|       0.729| 0.998| 8.0|  -8.161| 1.0|     0.0614|     0.00283|           0.298|    0.09|  0.653|146.006|           4.0|[42.0,0.729,0.998...|[0.46153846153846...|\n",
      "|        52|        0.83| 0.688| 5.0|  -9.539| 0.0|     0.0706|      0.0621|           0.708|    0.12|   0.73|123.979|           4.0|[52.0,0.83,0.688,...|[0.57142857142857...|\n",
      "|         3|       0.923| 0.564|11.0|  -9.748| 0.0|      0.123|     0.00506|           0.164|  0.0423|  0.734|124.979|           4.0|[3.0,0.923,0.564,...|[0.03296703296703...|\n",
      "|        42|       0.374| 0.571| 3.0| -10.513| 0.0|     0.0748|        0.71|           0.538|   0.139| 0.0379|127.014|           4.0|[42.0,0.374,0.571...|[0.46153846153846...|\n",
      "|        39|       0.649| 0.861|11.0|  -6.255| 0.0|     0.0472|     0.00501|           0.873|   0.287|  0.612|132.998|           4.0|[39.0,0.649,0.861...|[0.42857142857142...|\n",
      "|        42|       0.645|  0.96|10.0|  -5.807| 0.0|     0.0385|     3.36E-4|           0.898|  0.0765|  0.965|148.006|           4.0|[42.0,0.645,0.96,...|[0.46153846153846...|\n",
      "|        34|       0.606| 0.996| 7.0|  -7.465| 1.0|     0.0478|      0.0166|           0.753|    0.22|  0.364|149.976|           4.0|[34.0,0.606,0.996...|[0.37362637362637...|\n",
      "|        51|       0.668| 0.897| 3.0|  -8.289| 0.0|     0.0492|       0.202|           0.901|  0.0986|  0.516|127.972|           4.0|[51.0,0.668,0.897...|[0.56043956043956...|\n",
      "|        43|       0.796| 0.657| 2.0|  -9.726| 1.0|     0.0649|      0.0279|           0.897|  0.0926|  0.221|132.992|           4.0|[43.0,0.796,0.657...|[0.47252747252747...|\n",
      "|        48|       0.712| 0.935|11.0|  -4.213| 1.0|     0.0712|     5.62E-5|           0.868|  0.0511|  0.903|155.007|           4.0|[48.0,0.712,0.935...|[0.52747252747252...|\n",
      "|        51|       0.635| 0.933| 7.0|  -7.264| 1.0|     0.0459|     3.33E-4|           0.964|   0.166|  0.876|150.021|           4.0|[51.0,0.635,0.933...|[0.56043956043956...|\n",
      "|        53|       0.785| 0.579| 7.0| -10.069| 1.0|     0.0356|        0.18|           0.543|   0.168|  0.262|127.003|           4.0|[53.0,0.785,0.579...|[0.58241758241758...|\n",
      "|        56|        0.39| 0.296| 4.0| -11.859| 1.0|     0.0314|       0.802|         1.14E-5|   0.206|  0.396|151.824|           4.0|[56.0,0.39,0.296,...|[0.61538461538461...|\n",
      "|        49|       0.582| 0.753| 6.0|  -3.984| 0.0|     0.0322|     0.00779|         1.53E-4|   0.103|  0.145| 87.497|           4.0|[49.0,0.582,0.753...|[0.53846153846153...|\n",
      "|        53|       0.395| 0.875| 2.0|  -4.613| 0.0|     0.0448|      0.0725|           0.116|   0.225| 0.0656| 86.956|           4.0|[53.0,0.395,0.875...|[0.58241758241758...|\n",
      "|        52|       0.767| 0.505|11.0| -13.278| 0.0|      0.372|       0.505|             0.0|   0.125|  0.831|121.884|           4.0|[52.0,0.767,0.505...|[0.57142857142857...|\n",
      "|        46|       0.465| 0.919| 6.0|  -6.419| 0.0|     0.0423|     0.00155|           0.841|   0.378|  0.231|137.937|           4.0|[46.0,0.465,0.919...|[0.50549450549450...|\n",
      "|        55|       0.815| 0.596| 4.0| -11.735| 0.0|     0.0486|      0.0989|           0.891|   0.106|   0.57|125.009|           4.0|[55.0,0.815,0.596...|[0.60439560439560...|\n",
      "|        41|       0.682| 0.406| 1.0|   -9.84| 1.0|     0.0646|     0.00248|           0.765|   0.133|  0.622|129.975|           4.0|[41.0,0.682,0.406...|[0.45054945054945...|\n",
      "|        28|       0.657| 0.547|11.0| -12.403| 1.0|     0.0592|     0.00847|            0.97|   0.102|  0.909|129.012|           4.0|[28.0,0.657,0.547...|[0.30769230769230...|\n",
      "+----------+------------+------+----+--------+----+-----------+------------+----------------+--------+-------+-------+--------------+--------------------+--------------------+\n",
      "only showing top 20 rows\n",
      "\n"
     ]
    }
   ],
   "source": [
    "# Normalize the data\n",
    "from pyspark.ml.feature import MinMaxScaler\n",
    "from pyspark.ml.feature import VectorAssembler\n",
    "\n",
    "assembler = VectorAssembler(inputCols=filled_data.columns, outputCol=\"features\")\n",
    "assembled_data = assembler.transform(filled_data)\n",
    "\n",
    "scaler = MinMaxScaler(inputCol=\"features\", outputCol=\"scaledFeatures\")\n",
    "scaler_model = scaler.fit(assembled_data)\n",
    "scaled_data = scaler_model.transform(assembled_data)\n",
    "\n",
    "# Show the result\n",
    "scaled_data.show()"
   ],
   "metadata": {
    "collapsed": false,
    "ExecuteTime": {
     "end_time": "2023-05-03T20:46:33.445014Z",
     "start_time": "2023-05-03T20:46:32.620396Z"
    }
   }
  },
  {
   "cell_type": "markdown",
   "source": [
    "# Generate (at least) 2 new columns based on the relations with the existing columns."
   ],
   "metadata": {
    "collapsed": false,
    "ExecuteTime": {
     "end_time": "2023-05-03T20:56:15.655805Z",
     "start_time": "2023-05-03T20:56:15.357129Z"
    }
   },
   "outputs": [
    {
     "name": "stdout",
     "output_type": "stream",
     "text": [
      "+----------+------------+------+----+--------+----+-----------+------------+----------------+--------+-------+-------+--------------+--------------------+--------------------+-------------------+-------------------+\n",
      "|popularity|danceability|energy| key|loudness|mode|speechiness|acousticness|instrumentalness|liveness|valence|  tempo|time_signature|            features|      scaledFeatures|energy_danceability|     energy_valence|\n",
      "+----------+------------+------+----+--------+----+-----------+------------+----------------+--------+-------+-------+--------------+--------------------+--------------------+-------------------+-------------------+\n",
      "|        42|       0.729| 0.998| 8.0|  -8.161| 1.0|     0.0614|     0.00283|           0.298|    0.09|  0.653|146.006|           4.0|[42.0,0.729,0.998...|[0.46153846153846...|           0.727542|           0.651694|\n",
      "|        52|        0.83| 0.688| 5.0|  -9.539| 0.0|     0.0706|      0.0621|           0.708|    0.12|   0.73|123.979|           4.0|[52.0,0.83,0.688,...|[0.57142857142857...| 0.5710399999999999| 0.5022399999999999|\n",
      "|         3|       0.923| 0.564|11.0|  -9.748| 0.0|      0.123|     0.00506|           0.164|  0.0423|  0.734|124.979|           4.0|[3.0,0.923,0.564,...|[0.03296703296703...| 0.5205719999999999|0.41397599999999996|\n",
      "|        42|       0.374| 0.571| 3.0| -10.513| 0.0|     0.0748|        0.71|           0.538|   0.139| 0.0379|127.014|           4.0|[42.0,0.374,0.571...|[0.46153846153846...|           0.213554|          0.0216409|\n",
      "|        39|       0.649| 0.861|11.0|  -6.255| 0.0|     0.0472|     0.00501|           0.873|   0.287|  0.612|132.998|           4.0|[39.0,0.649,0.861...|[0.42857142857142...|           0.558789|           0.526932|\n",
      "|        42|       0.645|  0.96|10.0|  -5.807| 0.0|     0.0385|     3.36E-4|           0.898|  0.0765|  0.965|148.006|           4.0|[42.0,0.645,0.96,...|[0.46153846153846...|             0.6192| 0.9263999999999999|\n",
      "|        34|       0.606| 0.996| 7.0|  -7.465| 1.0|     0.0478|      0.0166|           0.753|    0.22|  0.364|149.976|           4.0|[34.0,0.606,0.996...|[0.37362637362637...|           0.603576|           0.362544|\n",
      "|        51|       0.668| 0.897| 3.0|  -8.289| 0.0|     0.0492|       0.202|           0.901|  0.0986|  0.516|127.972|           4.0|[51.0,0.668,0.897...|[0.56043956043956...| 0.5991960000000001|0.46285200000000004|\n",
      "|        43|       0.796| 0.657| 2.0|  -9.726| 1.0|     0.0649|      0.0279|           0.897|  0.0926|  0.221|132.992|           4.0|[43.0,0.796,0.657...|[0.47252747252747...| 0.5229720000000001|0.14519700000000002|\n",
      "|        48|       0.712| 0.935|11.0|  -4.213| 1.0|     0.0712|     5.62E-5|           0.868|  0.0511|  0.903|155.007|           4.0|[48.0,0.712,0.935...|[0.52747252747252...|            0.66572| 0.8443050000000001|\n",
      "|        51|       0.635| 0.933| 7.0|  -7.264| 1.0|     0.0459|     3.33E-4|           0.964|   0.166|  0.876|150.021|           4.0|[51.0,0.635,0.933...|[0.56043956043956...| 0.5924550000000001|           0.817308|\n",
      "|        53|       0.785| 0.579| 7.0| -10.069| 1.0|     0.0356|        0.18|           0.543|   0.168|  0.262|127.003|           4.0|[53.0,0.785,0.579...|[0.58241758241758...|           0.454515|           0.151698|\n",
      "|        56|        0.39| 0.296| 4.0| -11.859| 1.0|     0.0314|       0.802|         1.14E-5|   0.206|  0.396|151.824|           4.0|[56.0,0.39,0.296,...|[0.61538461538461...|            0.11544|           0.117216|\n",
      "|        49|       0.582| 0.753| 6.0|  -3.984| 0.0|     0.0322|     0.00779|         1.53E-4|   0.103|  0.145| 87.497|           4.0|[49.0,0.582,0.753...|[0.53846153846153...|0.43824599999999997|0.10918499999999999|\n",
      "|        53|       0.395| 0.875| 2.0|  -4.613| 0.0|     0.0448|      0.0725|           0.116|   0.225| 0.0656| 86.956|           4.0|[53.0,0.395,0.875...|[0.58241758241758...|           0.345625|0.05740000000000001|\n",
      "|        52|       0.767| 0.505|11.0| -13.278| 0.0|      0.372|       0.505|             0.0|   0.125|  0.831|121.884|           4.0|[52.0,0.767,0.505...|[0.57142857142857...|           0.387335|           0.419655|\n",
      "|        46|       0.465| 0.919| 6.0|  -6.419| 0.0|     0.0423|     0.00155|           0.841|   0.378|  0.231|137.937|           4.0|[46.0,0.465,0.919...|[0.50549450549450...|           0.427335|           0.212289|\n",
      "|        55|       0.815| 0.596| 4.0| -11.735| 0.0|     0.0486|      0.0989|           0.891|   0.106|   0.57|125.009|           4.0|[55.0,0.815,0.596...|[0.60439560439560...|0.48573999999999995|0.33971999999999997|\n",
      "|        41|       0.682| 0.406| 1.0|   -9.84| 1.0|     0.0646|     0.00248|           0.765|   0.133|  0.622|129.975|           4.0|[41.0,0.682,0.406...|[0.45054945054945...|           0.276892|0.25253200000000003|\n",
      "|        28|       0.657| 0.547|11.0| -12.403| 1.0|     0.0592|     0.00847|            0.97|   0.102|  0.909|129.012|           4.0|[28.0,0.657,0.547...|[0.30769230769230...|0.35937900000000006| 0.4972230000000001|\n",
      "+----------+------------+------+----+--------+----+-----------+------------+----------------+--------+-------+-------+--------------+--------------------+--------------------+-------------------+-------------------+\n",
      "only showing top 20 rows\n",
      "\n"
     ]
    }
   ],
   "execution_count": 20
  },
  {
   "cell_type": "code",
   "execution_count": 21,
   "outputs": [
    {
     "name": "stderr",
     "output_type": "stream",
     "text": [
      "23/05/03 22:56:18 WARN InstanceBuilder: Failed to load implementation from:dev.ludovic.netlib.blas.JNIBLAS\n"
     ]
    },
    {
     "name": "stdout",
     "output_type": "stream",
     "text": [
      "+----------+------------+------+----+--------+----+-----------+------------+----------------+--------+-------+-------+--------------+--------------------+-------+\n",
      "|popularity|danceability|energy| key|loudness|mode|speechiness|acousticness|instrumentalness|liveness|valence|  tempo|time_signature|            features|cluster|\n",
      "+----------+------------+------+----+--------+----+-----------+------------+----------------+--------+-------+-------+--------------+--------------------+-------+\n",
      "|        42|       0.729| 0.998| 8.0|  -8.161| 1.0|     0.0614|     0.00283|           0.298|    0.09|  0.653|146.006|           4.0|[42.0,0.729,0.998...|      2|\n",
      "|        52|        0.83| 0.688| 5.0|  -9.539| 0.0|     0.0706|      0.0621|           0.708|    0.12|   0.73|123.979|           4.0|[52.0,0.83,0.688,...|      2|\n",
      "|         3|       0.923| 0.564|11.0|  -9.748| 0.0|      0.123|     0.00506|           0.164|  0.0423|  0.734|124.979|           4.0|[3.0,0.923,0.564,...|      0|\n",
      "|        42|       0.374| 0.571| 3.0| -10.513| 0.0|     0.0748|        0.71|           0.538|   0.139| 0.0379|127.014|           4.0|[42.0,0.374,0.571...|      2|\n",
      "|        39|       0.649| 0.861|11.0|  -6.255| 0.0|     0.0472|     0.00501|           0.873|   0.287|  0.612|132.998|           4.0|[39.0,0.649,0.861...|      2|\n",
      "|        42|       0.645|  0.96|10.0|  -5.807| 0.0|     0.0385|     3.36E-4|           0.898|  0.0765|  0.965|148.006|           4.0|[42.0,0.645,0.96,...|      2|\n",
      "|        34|       0.606| 0.996| 7.0|  -7.465| 1.0|     0.0478|      0.0166|           0.753|    0.22|  0.364|149.976|           4.0|[34.0,0.606,0.996...|      0|\n",
      "|        51|       0.668| 0.897| 3.0|  -8.289| 0.0|     0.0492|       0.202|           0.901|  0.0986|  0.516|127.972|           4.0|[51.0,0.668,0.897...|      2|\n",
      "|        43|       0.796| 0.657| 2.0|  -9.726| 1.0|     0.0649|      0.0279|           0.897|  0.0926|  0.221|132.992|           4.0|[43.0,0.796,0.657...|      2|\n",
      "|        48|       0.712| 0.935|11.0|  -4.213| 1.0|     0.0712|     5.62E-5|           0.868|  0.0511|  0.903|155.007|           4.0|[48.0,0.712,0.935...|      2|\n",
      "|        51|       0.635| 0.933| 7.0|  -7.264| 1.0|     0.0459|     3.33E-4|           0.964|   0.166|  0.876|150.021|           4.0|[51.0,0.635,0.933...|      2|\n",
      "|        53|       0.785| 0.579| 7.0| -10.069| 1.0|     0.0356|        0.18|           0.543|   0.168|  0.262|127.003|           4.0|[53.0,0.785,0.579...|      2|\n",
      "|        56|        0.39| 0.296| 4.0| -11.859| 1.0|     0.0314|       0.802|         1.14E-5|   0.206|  0.396|151.824|           4.0|[56.0,0.39,0.296,...|      2|\n",
      "|        49|       0.582| 0.753| 6.0|  -3.984| 0.0|     0.0322|     0.00779|         1.53E-4|   0.103|  0.145| 87.497|           4.0|[49.0,0.582,0.753...|      2|\n",
      "|        53|       0.395| 0.875| 2.0|  -4.613| 0.0|     0.0448|      0.0725|           0.116|   0.225| 0.0656| 86.956|           4.0|[53.0,0.395,0.875...|      2|\n",
      "|        52|       0.767| 0.505|11.0| -13.278| 0.0|      0.372|       0.505|             0.0|   0.125|  0.831|121.884|           4.0|[52.0,0.767,0.505...|      2|\n",
      "|        46|       0.465| 0.919| 6.0|  -6.419| 0.0|     0.0423|     0.00155|           0.841|   0.378|  0.231|137.937|           4.0|[46.0,0.465,0.919...|      2|\n",
      "|        55|       0.815| 0.596| 4.0| -11.735| 0.0|     0.0486|      0.0989|           0.891|   0.106|   0.57|125.009|           4.0|[55.0,0.815,0.596...|      2|\n",
      "|        41|       0.682| 0.406| 1.0|   -9.84| 1.0|     0.0646|     0.00248|           0.765|   0.133|  0.622|129.975|           4.0|[41.0,0.682,0.406...|      2|\n",
      "|        28|       0.657| 0.547|11.0| -12.403| 1.0|     0.0592|     0.00847|            0.97|   0.102|  0.909|129.012|           4.0|[28.0,0.657,0.547...|      0|\n",
      "+----------+------------+------+----+--------+----+-----------+------------+----------------+--------+-------+-------+--------------+--------------------+-------+\n",
      "only showing top 20 rows\n",
      "\n"
     ]
    }
   ],
   "source": [
    "# Generate new columns\n",
    "from pyspark.sql.functions import col, when\n",
    "\n",
    "new_data = scaled_data.withColumn(\"energy_danceability\", col(\"energy\") * col(\"danceability\"))   .withColumn(\"energy_valence\", col(\"energy\") * col(\"valence\"))\n",
    "\n",
    "# Show the result\n",
    "new_data.show()\n"
   ],
   "metadata": {
    "collapsed": false,
    "ExecuteTime": {
     "end_time": "2023-05-03T20:56:21.003098Z",
     "start_time": "2023-05-03T20:56:16.305408Z"
    }
   }
  },
  {
   "cell_type": "code",
   "execution_count": 22,
   "outputs": [],
   "source": [
    "# add a k-means clustering column\n",
    "from pyspark.ml.feature import VectorAssembler\n",
    "from pyspark.ml.clustering import KMeans\n",
    "from pyspark.ml import Pipeline\n",
    "\n",
    "# Create a feature vector using the columns you want to include in the clustering\n",
    "feature_columns = [\"popularity\", \"danceability\", \"energy\", \"key\", \"loudness\", \"mode\", \"speechiness\", \"acousticness\", \"instrumentalness\", \"liveness\", \"valence\", \"tempo\", \"time_signature\"]\n",
    "vector_assembler = VectorAssembler(inputCols=feature_columns, outputCol=\"features\")\n",
    "\n",
    "# Initialize KMeans algorithm\n",
    "kmeans = KMeans(k=3, seed=1, featuresCol=\"features\", predictionCol=\"cluster\")\n",
    "\n",
    "# Create a pipeline with the VectorAssembler and KMeans\n",
    "pipeline = Pipeline(stages=[vector_assembler, kmeans])\n",
    "\n",
    "# Fit the model and make predictions\n",
    "model = pipeline.fit(filled_data)\n",
    "clustered_data = model.transform(filled_data)\n",
    "\n",
    "# Show the result\n",
    "clustered_data.show()"
   ],
   "metadata": {
    "collapsed": false,
    "ExecuteTime": {
     "end_time": "2023-05-03T20:56:21.319894Z",
     "start_time": "2023-05-03T20:56:21.004493Z"
    }
   }
  },
  {
   "cell_type": "code",
   "execution_count": 1,
   "outputs": [
    {
     "ename": "NameError",
     "evalue": "name 'clustered_data' is not defined",
     "output_type": "error",
     "traceback": [
      "\u001B[0;31m---------------------------------------------------------------------------\u001B[0m",
      "\u001B[0;31mNameError\u001B[0m                                 Traceback (most recent call last)",
      "Cell \u001B[0;32mIn[1], line 2\u001B[0m\n\u001B[1;32m      1\u001B[0m \u001B[38;5;66;03m# save the dataframe as a csv file\u001B[39;00m\n\u001B[0;32m----> 2\u001B[0m \u001B[43mclustered_data\u001B[49m\u001B[38;5;241m.\u001B[39mtoPandas()\u001B[38;5;241m.\u001B[39mto_csv(\u001B[38;5;124m\"\u001B[39m\u001B[38;5;124mclustered_data.csv\u001B[39m\u001B[38;5;124m\"\u001B[39m)\n",
      "\u001B[0;31mNameError\u001B[0m: name 'clustered_data' is not defined"
     ]
    }
   ],
   "source": [],
   "metadata": {
    "collapsed": false,
    "ExecuteTime": {
     "end_time": "2023-05-03T20:55:01.470477Z",
     "start_time": "2023-05-03T20:55:01.122970Z"
    }
   }
  }
 ],
 "metadata": {
  "kernelspec": {
   "display_name": "Python 3",
   "language": "python",
   "name": "python3"
  },
  "language_info": {
   "codemirror_mode": {
    "name": "ipython",
    "version": 2
   },
   "file_extension": ".py",
   "mimetype": "text/x-python",
   "name": "python",
   "nbconvert_exporter": "python",
   "pygments_lexer": "ipython2",
   "version": "2.7.6"
  }
 },
 "nbformat": 4,
 "nbformat_minor": 0
}
